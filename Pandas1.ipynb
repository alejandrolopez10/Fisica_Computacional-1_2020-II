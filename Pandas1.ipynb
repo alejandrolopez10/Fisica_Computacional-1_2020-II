{
 "metadata": {
  "language_info": {
   "codemirror_mode": {
    "name": "ipython",
    "version": 3
   },
   "file_extension": ".py",
   "mimetype": "text/x-python",
   "name": "python",
   "nbconvert_exporter": "python",
   "pygments_lexer": "ipython3",
   "version": "3.8.6-final"
  },
  "orig_nbformat": 2,
  "kernelspec": {
   "name": "Python 3.8.6 64-bit",
   "display_name": "Python 3.8.6 64-bit",
   "metadata": {
    "interpreter": {
     "hash": "916dbcbb3f70747c44a77c7bcd40155683ae19c65e1c03b4aa3499c5328201f1"
    }
   }
  }
 },
 "nbformat": 4,
 "nbformat_minor": 2,
 "cells": [
  {
   "source": [
    "# Pandas 1\n",
    "es un paquete de código abierto para Python que contiene herramientas de análisis y manipulación de datos de alto desempeño.\n",
    "\n",
    "# Estructuras de dato de Pandas\n",
    "Actualmente _Pandas_ maneja tres tipos de estructuras de datos, construidos a partir de arreglos de numpy:\n",
    "- __Series__    : Arreglos unidimencionales, cuyo tamaño es inmutable.\n",
    "- __DataFrames__: Arreglo bidimencional, con tamaño mutable, se puede considerar un contenedor de _Series_.\n",
    "- __Panel:__    : Arreglo tridimencional, con tamaño mutale, se puede considerar un contenedor de _DataFrames_.\n",
    "\n",
    "## Series\n",
    "\n",
    "__Sintaxis:__\n",
    ">```\n",
    ">   pandas.Series( data, index, dtype, copy)\n",
    ">```\n",
    "\n",
    "Donde `data` pueden ser listas de python o arreglos de numpy o diccionarios. `index` es un identificador, por defecto se usa `np.arrange(n)`, `dtype` es el tipo de datos que contiene, que por defecto python lo infiere. `copy` si se copian los datos, por defecto _False_. Se suele pensar en las series de _Pandas_ como una columna de Exel (openOffice, LibreOffice), con el nombre de la fila (_index_).\n",
    "\n",
    "__Ejemplos:__ Creemos algunas series"
   ],
   "cell_type": "markdown",
   "metadata": {}
  },
  {
   "cell_type": "code",
   "execution_count": 1,
   "metadata": {
    "tags": []
   },
   "outputs": [
    {
     "output_type": "stream",
     "name": "stdout",
     "text": "Serie Vacia\nSeries([], dtype: float64)\nSerie de strings\n0    Camilo\n1    Andres\n2    Andrea\n3     Paula\n4    Carlos\ndtype: object\nSerie de Enteros\na    21\nb    55\nc    31\nd    56\ne    90\ndtype: int64\n"
    }
   ],
   "source": [
    "import numpy as np\n",
    "import pandas as pd\n",
    "\n",
    "# Un arreglo vacio\n",
    "empty_serie = pd.Series()\n",
    "print(\"Serie Vacia\")\n",
    "print(empty_serie)\n",
    "\n",
    "# Un arreglo de strings desde un arreglo de numpy\n",
    "#como no se paso index, entonces usa el default\n",
    "str_arr = np.array([\"Camilo\",\"Andres\",\"Andrea\",\"Paula\",\"Carlos\"])\n",
    "str_serie = pd.Series(str_arr)\n",
    "print(\"Serie de strings\")\n",
    "print(str_serie)\n",
    "\n",
    "# Un arreglo de enteros desde un diccionario\n",
    "#note que los indices cambiaron por las keys del diccionario\n",
    "int_dic = {'a':21,'b':55,'c':31,'d':56,'e':90}\n",
    "int_serie = pd.Series(int_dic)\n",
    "print(\"Serie de Enteros\")\n",
    "print(int_serie)"
   ]
  },
  {
   "source": [
    "Una vez construida la serie, se puede acceder a los datos de manera similar a los arreglos de numpy (narray), tambíen es posible recuperar los datos usando el indice (etiquetas en `index`). Tenga en cuenta que muchas veces estas dos formas van a coincidir (en el caso que se use el default)\n",
    "\n",
    "__Ejemplo:__ Varias formas de acceder a los datos de una serie\n"
   ],
   "cell_type": "markdown",
   "metadata": {}
  },
  {
   "cell_type": "code",
   "execution_count": 2,
   "metadata": {
    "tags": []
   },
   "outputs": [
    {
     "output_type": "stream",
     "name": "stdout",
     "text": "int_serie[0]: 21\nint_serie['a']: 21\n"
    }
   ],
   "source": [
    "# Imprimo el primer elemento de la lista usando:\n",
    "\n",
    "#usando la posición como en un narray\n",
    "print(\"int_serie[0]:\", int_serie[0])\n",
    "#usando el indice (etiqueta o label)\n",
    "print(\"int_serie['a']:\", int_serie['a'])"
   ]
  },
  {
   "source": [
    "## DataFrames\n",
    "Se suele comparar los `DataFrames` con hojas de calculo de Exel.\n",
    "\n",
    "__Sintaxis:__ \n",
    "\n",
    ">```\n",
    ">   pandas.DataFrame( data, index, columns, dtype, copy)\n",
    ">```\n",
    "\n",
    "Donde `data` pueden ser varios tipos de datos como narray, series, map, lists, dict, constants e inclusive otro _DataFrame_. `index` se usa para etiquetar las filas y el valor por defecto es posicional (como en el caso de las Series). `columns` Son las etiquetas para las columnas, es opcional y por defecto se pasa es posicional. `dtype` es el tipo de datos por columna. `copy` para copiar los datos, por defecto False.\n",
    "\n",
    "__Ejemplos:__ Creemos algunos DataFrames\n"
   ],
   "cell_type": "markdown",
   "metadata": {}
  },
  {
   "cell_type": "code",
   "execution_count": 3,
   "metadata": {
    "tags": []
   },
   "outputs": [
    {
     "output_type": "stream",
     "name": "stdout",
     "text": "DataFrame Vacio\nEmpty DataFrame\nColumns: []\nIndex: []\n------------------------------------\nDataFrame Desde una lista de listas\n     Nombre  Edad\n0    Camilo  10.0\n1    Carlos  40.0\n2     Mario   7.0\n3   Daniela  22.0\n4  Josefina  86.0\n------------------------------------\nDataFrame desde un diccionario\n      Referencias  precios\nfila1        0001      100\nfila2        0002      200\nfila3        0003      300\nfila4        0004      400\nfila5        0005      500\n------------------------------------\nDataFrame desde una lista de diccionarios\n  Referencia  Precio   Descripcion\n0        001     100  referencia 1\n1        002     200           NaN\n2        003     300  referencia 3\n3        004     400           NaN\n"
    }
   ],
   "source": [
    "#Primero un DataFrame Vacio\n",
    "empty_data_frame = pd.DataFrame()\n",
    "print(\"DataFrame Vacio\")\n",
    "print(empty_data_frame)\n",
    "print(\"------------------------------------\")\n",
    "#Ahora uno usando una lista de listas\n",
    "lista_Listas = [[\"Camilo\",10],[\"Carlos\",40],[\"Mario\",7],[\"Daniela\",22],[\"Josefina\",86]]\n",
    "DF_lista = pd.DataFrame(lista_Listas,columns=[\"Nombre\",\"Edad\"],dtype=float)    #obligo a que los datos sean float\n",
    "print(\"DataFrame Desde una lista de listas\")\n",
    "print(DF_lista) \n",
    "print(\"------------------------------------\")\n",
    "#Usando un diccionario\n",
    "dictionary = {'Referencias':[\"0001\",\"0002\",\"0003\",\"0004\",\"0005\"],'precios':[100,200,300,400,500]}\n",
    "DF_dic = pd.DataFrame(dictionary,index=[\"fila1\",\"fila2\",\"fila3\",\"fila4\",\"fila5\"])  #Cambio el indice de las filas\n",
    "print(\"DataFrame desde un diccionario\")\n",
    "print(DF_dic)\n",
    "print(\"------------------------------------\")\n",
    "#Dede una lista de diccionarios\n",
    "dict_list = [\n",
    "    {'Referencia':\"001\",'Precio':100, 'Descripcion':\"referencia 1\"},\n",
    "    {'Referencia':\"002\",'Precio':200},\n",
    "    {'Referencia':\"003\",'Precio':300, 'Descripcion':\"referencia 3\"},\n",
    "    {'Referencia':\"004\",'Precio':400}]\n",
    "DF_dict_list = pd.DataFrame(dict_list)\n",
    "print(\"DataFrame desde una lista de diccionarios\")\n",
    "print(DF_dict_list)"
   ]
  },
  {
   "source": [
    "Note que en la última definición, donde faltaron items (descripcion) DataFrame pone automaticamente un NaN (Not a Number) para indicar que no se proporciono ese dato.\n",
    "## Modificar la estructura de un DataFrame\n",
    "Se puede modificar la estructura de un DataFrame Aumentando o borrando columnas al DF. También se puede seleccionar una columna y operar con ella de forma independiente, recordando que python usa _paso por referencia_.\n",
    "\n",
    "__Ejemplo:__ Seleccionemos una columna de `DF_dic`"
   ],
   "cell_type": "markdown",
   "metadata": {}
  },
  {
   "cell_type": "code",
   "execution_count": 4,
   "metadata": {
    "tags": []
   },
   "outputs": [
    {
     "output_type": "stream",
     "name": "stdout",
     "text": "Antes de editar columna\n      Referencias  precios\nfila1        0001      100\nfila2        0002      200\nfila3        0003      300\nfila4        0004      400\nfila5        0005      500\n------------------------------------\nDespúes de editar columna\n      Referencias  precios\nfila1        0001      100\nfila2        0002      200\nfila3          03      300\nfila4        0004      400\nfila5        0005      500\n"
    }
   ],
   "source": [
    "#Volvemos a crear el DF para evitar contaminación\n",
    "dictionary = {'Referencias':[\"0001\",\"0002\",\"0003\",\"0004\",\"0005\"],'precios':[100,200,300,400,500]}\n",
    "DF_dic = pd.DataFrame(dictionary,index=[\"fila1\",\"fila2\",\"fila3\",\"fila4\",\"fila5\"])  #Cambio el indice de las filas\n",
    "print(\"Antes de editar columna\")\n",
    "print(DF_dic)\n",
    "print(\"------------------------------------\")\n",
    "#Seleccion la columna Referencias y se la asigno al objeto RefCol\n",
    "RefCol = DF_dic['Referencias']\n",
    "#Modifico la fila3\n",
    "RefCol['fila3'] = '03'\n",
    "#Note que se modifica en el DataFrame \n",
    "print(\"Despúes de editar columna\")\n",
    "print(DF_dic)"
   ]
  },
  {
   "source": [
    "### Añadir o borrar columnas\n",
    "Otra cosa que se puede hacer, es crear o borrar columnas al DF.\n",
    "\n",
    "__Ejemplo:__ "
   ],
   "cell_type": "markdown",
   "metadata": {
    "tags": []
   }
  },
  {
   "cell_type": "code",
   "execution_count": 5,
   "metadata": {
    "tags": []
   },
   "outputs": [
    {
     "output_type": "stream",
     "name": "stdout",
     "text": "DataFrame desde una lista de diccionarios\n  Referencia  Precio   Descripcion\n0        001     100  referencia 1\n1        002     200           NaN\n2        003     300  referencia 3\n3        004     400           NaN\n----------------------------------------------------------------------\n  Referencia  Precio   Descripcion  Precio al publico\n0        001     100  referencia 1                110\n1        002     200           NaN                210\n2        003     300  referencia 3                310\n3        004     400           NaN                410\n----------------------------------------------------------------------\n  Referencia  Precio   Descripcion  Precio al publico  % de Ganancia\n0        001     100  referencia 1                110       9.090909\n1        002     200           NaN                210       4.761905\n2        003     300  referencia 3                310       3.225806\n3        004     400           NaN                410       2.439024\n----------------------------------------------------------------------\n  Referencia  Precio   Descripcion  Precio al publico\n0        001     100  referencia 1                110\n1        002     200           NaN                210\n2        003     300  referencia 3                310\n3        004     400           NaN                410\n"
    }
   ],
   "source": [
    "#Creamos el DF\n",
    "dict_list = [\n",
    "    {'Referencia':\"001\",'Precio':100, 'Descripcion':\"referencia 1\"},\n",
    "    {'Referencia':\"002\",'Precio':200},\n",
    "    {'Referencia':\"003\",'Precio':300, 'Descripcion':\"referencia 3\"},\n",
    "    {'Referencia':\"004\",'Precio':400}]\n",
    "DF_dict_list = pd.DataFrame(dict_list)\n",
    "print(\"DataFrame desde una lista de diccionarios\")\n",
    "print(DF_dict_list)\n",
    "print(\"----------------------------------------------------------------------\")\n",
    "\n",
    "#Creo una nueva columna desde una lista contenida en una serie\n",
    "DF_dict_list[\"Precio al publico\"] = pd.Series([110,210,310,410])\n",
    "print(DF_dict_list)\n",
    "print(\"----------------------------------------------------------------------\")\n",
    "#creo una nueva columna construida con otras contenidas dentro del DF\n",
    "DF_dict_list[\"% de Ganancia\"] = (DF_dict_list[\"Precio al publico\"]-DF_dict_list[\"Precio\"])*100/DF_dict_list[\"Precio al publico\"]\n",
    "print(DF_dict_list)\n",
    "print(\"----------------------------------------------------------------------\")\n",
    "# Y de nuevo borro la columna\n",
    "del DF_dict_list[\"% de Ganancia\"]\n",
    "print(DF_dict_list)"
   ]
  },
  {
   "source": [
    "### Seleccionar, añadir y borrar filas\n",
    "De manera similar los DF permiten seleccionar, añadir y borrar filas. \n",
    "\n",
    "__Ejemplos:__\n"
   ],
   "cell_type": "markdown",
   "metadata": {}
  },
  {
   "cell_type": "code",
   "execution_count": 6,
   "metadata": {
    "tags": []
   },
   "outputs": [
    {
     "output_type": "stream",
     "name": "stdout",
     "text": "Antes de editar columna\n      Referencias  precios\nfila1        0001      100\nfila2        0002      200\nfila3        0003      300\nfila4        0004      400\nfila5        0005      500\n------------------------------------\nReferencias    003\nprecios        300\nName: fila6, dtype: object\n.....................................\nReferencias    0004\nprecios         400\nName: fila4, dtype: object\n.....................................\n      Referencias  precios\nfila1        0001      100\nfila2        0002      200\nfila3        0003      300\nfila4        0004      400\nfila5        0005      500\n------------------------------------\n      Referencias  precios\nfila1        0001      100\nfila2        0002      200\nfila3        0003      300\nfila4        0004      400\nfila5        0005      500\nfila6         003      300\nfila4        0004      400\n------------------------------------\n      Referencias  precios\nfila1        0001      100\nfila2        0002      200\nfila3        0003      300\nfila5        0005      500\nfila6         003      300\n------------------------------------\n"
    }
   ],
   "source": [
    "#Usando un DF de un ejemplo pasado \n",
    "dictionary = {'Referencias':[\"0001\",\"0002\",\"0003\",\"0004\",\"0005\"],'precios':[100,200,300,400,500]}\n",
    "DF_dic = pd.DataFrame(dictionary,index=[\"fila1\",\"fila2\",\"fila3\",\"fila4\",\"fila5\"])  #Cambio el indice de las filas\n",
    "print(\"Antes de editar columna\")\n",
    "print(DF_dic)\n",
    "print(\"------------------------------------\")\n",
    "# Seleccionemos una filas, se hace pasandole el indice a la funcion loc\n",
    "#o tambien pasandole el numero el número de localización a iloc \n",
    "#Ojo son brackets [] no ()\n",
    "fila3 = DF_dic.loc[\"fila3\"]\n",
    "fila4 = DF_dic.iloc[3]\n",
    "#Si se trata de modificar, no quedan guardadas en el DF\n",
    "fila3[\"Referencias\"] = \"003\"\n",
    "#Cambio el nombre\n",
    "fila3.name = \"fila6\"\n",
    "print(fila3) \n",
    "print(\".....................................\")\n",
    "print(fila4) \n",
    "print(\".....................................\")\n",
    "print(DF_dic)\n",
    "print(\"------------------------------------\")\n",
    "# Añado un par de filas (mire muy bien la redaccion)\n",
    "DF_dic = DF_dic.append(fila3)\n",
    "DF_dic = DF_dic.append(fila4)\n",
    "print(DF_dic)\n",
    "print(\"------------------------------------\")\n",
    "# Borro las fila4 pues tiene un index repetido \n",
    "# Tenga cuidado con la forma del codigo\n",
    "DF_dic = DF_dic.drop(\"fila4\")\n",
    "print(DF_dic)\n",
    "print(\"------------------------------------\")"
   ]
  },
  {
   "cell_type": "code",
   "execution_count": 7,
   "metadata": {},
   "outputs": [
    {
     "output_type": "execute_result",
     "data": {
      "text/plain": "       Referencias  precios\nfila1         True     True\nfila2         True     True\nfila3         True     True\nfila5         True     True\nfila6         True     True",
      "text/html": "<div>\n<style scoped>\n    .dataframe tbody tr th:only-of-type {\n        vertical-align: middle;\n    }\n\n    .dataframe tbody tr th {\n        vertical-align: top;\n    }\n\n    .dataframe thead th {\n        text-align: right;\n    }\n</style>\n<table border=\"1\" class=\"dataframe\">\n  <thead>\n    <tr style=\"text-align: right;\">\n      <th></th>\n      <th>Referencias</th>\n      <th>precios</th>\n    </tr>\n  </thead>\n  <tbody>\n    <tr>\n      <th>fila1</th>\n      <td>True</td>\n      <td>True</td>\n    </tr>\n    <tr>\n      <th>fila2</th>\n      <td>True</td>\n      <td>True</td>\n    </tr>\n    <tr>\n      <th>fila3</th>\n      <td>True</td>\n      <td>True</td>\n    </tr>\n    <tr>\n      <th>fila5</th>\n      <td>True</td>\n      <td>True</td>\n    </tr>\n    <tr>\n      <th>fila6</th>\n      <td>True</td>\n      <td>True</td>\n    </tr>\n  </tbody>\n</table>\n</div>"
     },
     "metadata": {},
     "execution_count": 7
    }
   ],
   "source": [
    "DF_dic.notnull()"
   ]
  },
  {
   "source": [
    "Los DataFrames son las estructuras que más vamos a usar, luego es bueno tener algunos de sus atributos y métodos\n",
    "\n",
    "| FUNCTION                  | DESCRIPTION                                                                                                                                                                                                                      |\n",
    "|---------------------------|----------------------------------------------------------------------------------------------------------------------------------------------------------------------------------------------------------------------------------|\n",
    "| index()                   | Entrega el `index` (etiqueta de la fila) del DataFrame                                                                                                                                                                               |\n",
    "| insert()                  | Inserta una columna en el DF                                                                                                                                                                                         |\n",
    "| add()                     | Suma de dos DF                                                                                                                                               |\n",
    "| sub()                     | Resta de dos DF                                                                                                                                            |\n",
    "| mul()                     | Multiplicación de dos DF                                                                                                                                         |\n",
    "| div()                     | División de dos DF                                                                                                                                  |\n",
    "| unique()                  | Método que extrae los valores únicos del DF                                                                                                                                                                               |\n",
    "| nunique()                 | Entrega el número de valores únicos del DF                                                                                                                                                                       |\n",
    "| value_counts()            | Cuanta las ocurrencias de cada valor único dentro de la serie                                                                                                                                                     |\n",
    "| columns()                 | Entrega las etiquetas de las columnas                                                                                                                                                                                |\n",
    "| axes                      | Lista con los ejes (etiquetas de filas y columnas)                                                                                                                                                                     |\n",
    "| isnull()                  | Crea una lista de boleanos con True donde los valores son nulos                                                                                                                                                             |\n",
    "| notnull()                 | Crea una lista de boleanos con True donde los valores no son nulos                                                                                                                                                         |\n",
    "| between()                 | Extrae filas donde el valor de una columna se encuentra entre un rango predefinido                                                                                                                                                    |\n",
    "| isin()                    | Extrae filas de un DataFrame donde existe un valor de columna en una colección predefinida                                                                                                                                     |\n",
    "| dtypes()                  | Devuelve una serie con el tipo de datos de cada columna. El índice del resultado son las columnas del DataFrame original.                                                                                                                |\n",
    "| astype()                  | Convierte los tipos de datos en una serie                                                                                                                                                                                       |\n",
    "| values                  | Devuelve una representación Numpy del DataFrame, es decir, solo se devolverán los valores en el DataFrame, se eliminarán las etiquetas de los ejes                                                                                   |\n",
    "| sort_values()- Set1, Set2 | Ordena un marco de datos en orden ascendente o descendente de la columna que se pasa como argumento                                                                                                                                                      |\n",
    "| sort_index()              | Ordena los valores en un DF en función de sus posiciones de índice o etiquetas en lugar de sus valores, y cuando un DF está hecho de dos o más DF el índice posterior se puede cambiar usando este método |\n",
    "| loc[]                     | Entrega filas según la etiqueta de índice                                                                                                                                                                                    |\n",
    "| iloc[]                    | Entrega filas según la posición de índice.                                                                                                                                                                                     |\n",
    "| ix[]                      | Entrega filas de DF según la etiqueta del índice o la posición del índice. Este método combina las mejores características de los métodos .loc [] y .iloc []                                                                           |\n",
    "| rename()                  | Para cambiar los nombres de las etiquetas de índice o los nombres de las columnas                                                                                                                                          |\n",
    "| columns()                 | Atributo alternativo para cambiar el nombre de la columna                                                                                                                                                                    |\n",
    "| drop()                    | Método para eliminar filas o columnas de un DataFrame                                                                                                                                                                        |\n",
    "| pop()                     | Método para eliminar filas o columnas de un DataFrame                                                                                                                                                                         |\n",
    "| sample()                  | Extrae una muestra aleatoria de filas o columnas de un DataFrame                                                                                                                                                             |\n",
    "| nsmallest()               | Entrega las filas con los valores más pequeños en una columna                                                                                                                                                                   |\n",
    "| nlargest()                | Entrega las filas con los valores más grandes en una columna                                                                                                                                                                    |\n",
    "| shape()                   | Entrega una tupla con la dimensión                                                                                                                                                          |\n",
    "| ndim()                    | Entrega un entero que representa el número de ejes o dimensiones de matriz. Devuelve 1 si Serie, de lo contrario devuelve 2 si DF                                                                                                |\n",
    "| dropna()                  | Permite al usuario analizar y eliminar filas o columnas con valores nulos de diferentes formas.                                                                                                                                       |\n",
    "| fillna()                  | Permite que el usuario reemplace los valores de `NaN` con algún valor propio                                                                                                                                                  |\n",
    "| rank()                    | Clasifica las entradas de una serie por sus valores                                                                                                                                                                      |\n",
    "| query()                   | Sintaxis alternativa basada en cadenas de caracteres para extraer un subconjunto de un DataFrame                                                                                                                                              |\n",
    "| copy()                    | Crea una copia independiente de un objeto pandas                                                                                                                                                                           |\n",
    "| duplicated()              | Crea una serie booleana y la usa para extraer filas que tienen valores duplicados                                                                                                                                           |\n",
    "| drop_duplicates()         | Opción alternativa para identificar filas duplicadas y eliminarlas mediante el filtrado                                                                                                                                |\n",
    "| set_index()               | Establece el índice de DF (etiquetas de fila) usando una o más columnas existentes                                                                                                                                                  |\n",
    "| reset_index()             | Restablece el índice de un DF. Este método establece una lista de enteros que van desde 0 hasta la longitud de los datos como índice                                                                                                                |\n",
    "| where()                   | Verificar un marco de datos para una o más condiciones y devuelve el resultado en consecuencia. De forma predeterminada, las filas que no cumplen la condición se rellenan con el valor NaN  |\n",
    "\n",
    "\n",
    "__Ejemplos:__ Algunos ejemplos del uso de los anteriores (y otros) atributos y métodos                                                  "
   ],
   "cell_type": "markdown",
   "metadata": {}
  },
  {
   "cell_type": "code",
   "execution_count": 8,
   "metadata": {
    "tags": []
   },
   "outputs": [
    {
     "output_type": "stream",
     "name": "stdout",
     "text": "Axes\n[RangeIndex(start=0, stop=10, step=1)]\n------------------------------------\nrandom_series está vacio?\nFalse\n------------------------------------\nNúmero de dimensiones del objeto:\n1\n------------------------------------\nTamaño del objeto:\n10\n------------------------------------\nElementos únicos:\n[ 1.58895922 -0.68988785 -0.50432447  0.88532908  0.19286599  0.61398073\n -1.2700899   0.45976993 -0.72504619 -0.36565054]\n------------------------------------\nLos tres primeros elelmentos:\n0    1.588959\n1   -0.689888\n2   -0.504324\ndtype: float64\n------------------------------------\nLos tres últimos elelmentos:\n7    0.459770\n8   -0.725046\n9   -0.365651\ndtype: float64\n------------------------------------\n"
    }
   ],
   "source": [
    "#Creemos una serie con 10 números aleatorios\n",
    "random_series = pd.Series(np.random.randn(10))\n",
    "#print(random_series)\n",
    "# Miremos los ejes (axes)\n",
    "print(\"Axes\")\n",
    "print(random_series.axes)\n",
    "print(\"------------------------------------\")\n",
    "print(\"random_series está vacio?\")\n",
    "print(random_series.empty)\n",
    "print(\"------------------------------------\")\n",
    "print(\"Número de dimensiones del objeto:\")\n",
    "print(random_series.ndim)\n",
    "print(\"------------------------------------\")\n",
    "print(\"Tamaño del objeto:\")\n",
    "print(random_series.size)\n",
    "print(\"------------------------------------\")\n",
    "print(\"Elementos únicos:\")\n",
    "print(random_series.unique())\n",
    "print(\"------------------------------------\")\n",
    "print(\"Los tres primeros elelmentos:\")\n",
    "print(random_series.head(3))\n",
    "print(\"------------------------------------\")\n",
    "print(\"Los tres últimos elelmentos:\")\n",
    "print(random_series.tail(3))\n",
    "print(\"------------------------------------\")"
   ]
  },
  {
   "cell_type": "code",
   "execution_count": 9,
   "metadata": {
    "tags": []
   },
   "outputs": [
    {
     "output_type": "stream",
     "name": "stdout",
     "text": "      Nombre  Edad  Calificacion\n0      Tomas    25          4.23\n1      Jaime    26          3.24\n2    Ricardo    25          3.98\n3    Viviana    23          2.56\n4  Estefania    30          3.20\n5     Carlos    29          4.60\n6      Jorge    23          3.80\n------------------------------------\n                  0      1        2        3          4       5      6\nNombre        Tomas  Jaime  Ricardo  Viviana  Estefania  Carlos  Jorge\nEdad             25     26       25       23         30      29     23\nCalificacion   4.23   3.24     3.98     2.56        3.2     4.6    3.8\n------------------------------------\n"
    }
   ],
   "source": [
    "#Desde un diccionario\n",
    "Grades_Dict = {'Nombre':pd.Series(['Tomas','Jaime','Ricardo','Viviana','Estefania','Carlos','Jorge']),\n",
    "   'Edad':pd.Series([25,26,25,23,30,29,23]),\n",
    "   'Calificacion':pd.Series([4.23,3.24,3.98,2.56,3.20,4.6,3.8])}\n",
    "\n",
    "# DataFrame\n",
    "Grades_DF = pd.DataFrame(Grades_Dict)\n",
    "print(Grades_DF)\n",
    "print(\"------------------------------------\")\n",
    "# Transpuesta\n",
    "print(Grades_DF.T)\n",
    "print(\"------------------------------------\")"
   ]
  },
  {
   "source": [
    "## Operaciones entre elementos del DF"
   ],
   "cell_type": "markdown",
   "metadata": {}
  },
  {
   "cell_type": "code",
   "execution_count": 10,
   "metadata": {
    "tags": []
   },
   "outputs": [
    {
     "output_type": "execute_result",
     "data": {
      "text/plain": "    Documento    Apellido1   Apellido2    Nombre1    Nombre2  Nota1  Nota2  \\\n0   100064169    BOHORQUEZ      CHACON      DIEGO  ALEJANDRO      1      2   \n1   100363539        CABRA      PATINO   SANTIAGO                 2      1   \n2   107905013      CAICEDO    MARTINEZ     YEIMAR                 4      1   \n3     7432675     CARDENAS  COLMENARES     MANUEL     ARAUJO      1      2   \n4   100025427  CASTELLANOS    GONZALEZ      ANGIE    DANIELA      1      1   \n5   115715207       CATANO    MONSALVE     JULIAN                 0      1   \n6   100113849        DUQUE       HOYOS     ANDRES     FELIPE      2      0   \n7    10008685        DUQUE    QUINTERO  SEBASTIAN                 4      3   \n8    10456246      GALEANO       VAHOS     JAVIER      DARIO      3      1   \n9    10001883      GIRALDO    CARDENAS    MARIANA                 2      3   \n10   10113589        GOMEZ      POSADA     CAMILO     ANDRES      3      0   \n11   10075864        HENAO      CUERVO      DAVID     FELIPE      3      3   \n12    1516857    HERNANDEZ       GOMEZ       JUAN     CAMILO      2      0   \n13   10031883        LAGOS      OSORIO       LUIS   FERNANDO      2      4   \n14   10054782        MEJIA     FUENTES       JUAN     MANUEL      3      4   \n15   10078124        MEJIA    GONZALEZ     ANDRES                 2      0   \n16   10032997     MONSALVE      TORRES      SIMON                 0      0   \n17    4271868        ORTIZ   VELASQUEZ     GLADIS      JESUS      1      0   \n18   10537010      PENAGOS    GONZALEZ       JUAN      PABLO      4      1   \n19   10016972        PEREZ       GOMEZ      MATEO                 4      0   \n20   10628816     PULGARIN     ESTRADA       JUAN      DIEGO      2      0   \n21   10651441         RIOS       PEREZ    KATLEEN     JOHANA      2      3   \n22   10403569         RUIZ      GUERRA      JORGE    IGNACIO      0      1   \n23   10081111  SALDARRIAGA        MAZO      HEYDI     DAYANA      0      3   \n24   10251071     SASTOQUE    BUITRAGO  SEBASTIAN        NaN      1      3   \n25   10477629       VARGAS       ARIAS     DANIEL        NaN      3      0   \n26   10171337       ZAPATA   HERNANDEZ   VENANCIO        NaN      0      1   \n\n    Nota3  NotaFinal  \n0       0        NaN  \n1       2        NaN  \n2       4        NaN  \n3       4        NaN  \n4       1        NaN  \n5       4        NaN  \n6       1        NaN  \n7       3        NaN  \n8       3        NaN  \n9       3        NaN  \n10      1        NaN  \n11      4        NaN  \n12      2        NaN  \n13      3        NaN  \n14      2        NaN  \n15      0        NaN  \n16      2        NaN  \n17      3        NaN  \n18      2        NaN  \n19      3        NaN  \n20      1        NaN  \n21      4        NaN  \n22      0        NaN  \n23      0        NaN  \n24      3        NaN  \n25      4        NaN  \n26      1        NaN  ",
      "text/html": "<div>\n<style scoped>\n    .dataframe tbody tr th:only-of-type {\n        vertical-align: middle;\n    }\n\n    .dataframe tbody tr th {\n        vertical-align: top;\n    }\n\n    .dataframe thead th {\n        text-align: right;\n    }\n</style>\n<table border=\"1\" class=\"dataframe\">\n  <thead>\n    <tr style=\"text-align: right;\">\n      <th></th>\n      <th>Documento</th>\n      <th>Apellido1</th>\n      <th>Apellido2</th>\n      <th>Nombre1</th>\n      <th>Nombre2</th>\n      <th>Nota1</th>\n      <th>Nota2</th>\n      <th>Nota3</th>\n      <th>NotaFinal</th>\n    </tr>\n  </thead>\n  <tbody>\n    <tr>\n      <th>0</th>\n      <td>100064169</td>\n      <td>BOHORQUEZ</td>\n      <td>CHACON</td>\n      <td>DIEGO</td>\n      <td>ALEJANDRO</td>\n      <td>1</td>\n      <td>2</td>\n      <td>0</td>\n      <td>NaN</td>\n    </tr>\n    <tr>\n      <th>1</th>\n      <td>100363539</td>\n      <td>CABRA</td>\n      <td>PATINO</td>\n      <td>SANTIAGO</td>\n      <td></td>\n      <td>2</td>\n      <td>1</td>\n      <td>2</td>\n      <td>NaN</td>\n    </tr>\n    <tr>\n      <th>2</th>\n      <td>107905013</td>\n      <td>CAICEDO</td>\n      <td>MARTINEZ</td>\n      <td>YEIMAR</td>\n      <td></td>\n      <td>4</td>\n      <td>1</td>\n      <td>4</td>\n      <td>NaN</td>\n    </tr>\n    <tr>\n      <th>3</th>\n      <td>7432675</td>\n      <td>CARDENAS</td>\n      <td>COLMENARES</td>\n      <td>MANUEL</td>\n      <td>ARAUJO</td>\n      <td>1</td>\n      <td>2</td>\n      <td>4</td>\n      <td>NaN</td>\n    </tr>\n    <tr>\n      <th>4</th>\n      <td>100025427</td>\n      <td>CASTELLANOS</td>\n      <td>GONZALEZ</td>\n      <td>ANGIE</td>\n      <td>DANIELA</td>\n      <td>1</td>\n      <td>1</td>\n      <td>1</td>\n      <td>NaN</td>\n    </tr>\n    <tr>\n      <th>5</th>\n      <td>115715207</td>\n      <td>CATANO</td>\n      <td>MONSALVE</td>\n      <td>JULIAN</td>\n      <td></td>\n      <td>0</td>\n      <td>1</td>\n      <td>4</td>\n      <td>NaN</td>\n    </tr>\n    <tr>\n      <th>6</th>\n      <td>100113849</td>\n      <td>DUQUE</td>\n      <td>HOYOS</td>\n      <td>ANDRES</td>\n      <td>FELIPE</td>\n      <td>2</td>\n      <td>0</td>\n      <td>1</td>\n      <td>NaN</td>\n    </tr>\n    <tr>\n      <th>7</th>\n      <td>10008685</td>\n      <td>DUQUE</td>\n      <td>QUINTERO</td>\n      <td>SEBASTIAN</td>\n      <td></td>\n      <td>4</td>\n      <td>3</td>\n      <td>3</td>\n      <td>NaN</td>\n    </tr>\n    <tr>\n      <th>8</th>\n      <td>10456246</td>\n      <td>GALEANO</td>\n      <td>VAHOS</td>\n      <td>JAVIER</td>\n      <td>DARIO</td>\n      <td>3</td>\n      <td>1</td>\n      <td>3</td>\n      <td>NaN</td>\n    </tr>\n    <tr>\n      <th>9</th>\n      <td>10001883</td>\n      <td>GIRALDO</td>\n      <td>CARDENAS</td>\n      <td>MARIANA</td>\n      <td></td>\n      <td>2</td>\n      <td>3</td>\n      <td>3</td>\n      <td>NaN</td>\n    </tr>\n    <tr>\n      <th>10</th>\n      <td>10113589</td>\n      <td>GOMEZ</td>\n      <td>POSADA</td>\n      <td>CAMILO</td>\n      <td>ANDRES</td>\n      <td>3</td>\n      <td>0</td>\n      <td>1</td>\n      <td>NaN</td>\n    </tr>\n    <tr>\n      <th>11</th>\n      <td>10075864</td>\n      <td>HENAO</td>\n      <td>CUERVO</td>\n      <td>DAVID</td>\n      <td>FELIPE</td>\n      <td>3</td>\n      <td>3</td>\n      <td>4</td>\n      <td>NaN</td>\n    </tr>\n    <tr>\n      <th>12</th>\n      <td>1516857</td>\n      <td>HERNANDEZ</td>\n      <td>GOMEZ</td>\n      <td>JUAN</td>\n      <td>CAMILO</td>\n      <td>2</td>\n      <td>0</td>\n      <td>2</td>\n      <td>NaN</td>\n    </tr>\n    <tr>\n      <th>13</th>\n      <td>10031883</td>\n      <td>LAGOS</td>\n      <td>OSORIO</td>\n      <td>LUIS</td>\n      <td>FERNANDO</td>\n      <td>2</td>\n      <td>4</td>\n      <td>3</td>\n      <td>NaN</td>\n    </tr>\n    <tr>\n      <th>14</th>\n      <td>10054782</td>\n      <td>MEJIA</td>\n      <td>FUENTES</td>\n      <td>JUAN</td>\n      <td>MANUEL</td>\n      <td>3</td>\n      <td>4</td>\n      <td>2</td>\n      <td>NaN</td>\n    </tr>\n    <tr>\n      <th>15</th>\n      <td>10078124</td>\n      <td>MEJIA</td>\n      <td>GONZALEZ</td>\n      <td>ANDRES</td>\n      <td></td>\n      <td>2</td>\n      <td>0</td>\n      <td>0</td>\n      <td>NaN</td>\n    </tr>\n    <tr>\n      <th>16</th>\n      <td>10032997</td>\n      <td>MONSALVE</td>\n      <td>TORRES</td>\n      <td>SIMON</td>\n      <td></td>\n      <td>0</td>\n      <td>0</td>\n      <td>2</td>\n      <td>NaN</td>\n    </tr>\n    <tr>\n      <th>17</th>\n      <td>4271868</td>\n      <td>ORTIZ</td>\n      <td>VELASQUEZ</td>\n      <td>GLADIS</td>\n      <td>JESUS</td>\n      <td>1</td>\n      <td>0</td>\n      <td>3</td>\n      <td>NaN</td>\n    </tr>\n    <tr>\n      <th>18</th>\n      <td>10537010</td>\n      <td>PENAGOS</td>\n      <td>GONZALEZ</td>\n      <td>JUAN</td>\n      <td>PABLO</td>\n      <td>4</td>\n      <td>1</td>\n      <td>2</td>\n      <td>NaN</td>\n    </tr>\n    <tr>\n      <th>19</th>\n      <td>10016972</td>\n      <td>PEREZ</td>\n      <td>GOMEZ</td>\n      <td>MATEO</td>\n      <td></td>\n      <td>4</td>\n      <td>0</td>\n      <td>3</td>\n      <td>NaN</td>\n    </tr>\n    <tr>\n      <th>20</th>\n      <td>10628816</td>\n      <td>PULGARIN</td>\n      <td>ESTRADA</td>\n      <td>JUAN</td>\n      <td>DIEGO</td>\n      <td>2</td>\n      <td>0</td>\n      <td>1</td>\n      <td>NaN</td>\n    </tr>\n    <tr>\n      <th>21</th>\n      <td>10651441</td>\n      <td>RIOS</td>\n      <td>PEREZ</td>\n      <td>KATLEEN</td>\n      <td>JOHANA</td>\n      <td>2</td>\n      <td>3</td>\n      <td>4</td>\n      <td>NaN</td>\n    </tr>\n    <tr>\n      <th>22</th>\n      <td>10403569</td>\n      <td>RUIZ</td>\n      <td>GUERRA</td>\n      <td>JORGE</td>\n      <td>IGNACIO</td>\n      <td>0</td>\n      <td>1</td>\n      <td>0</td>\n      <td>NaN</td>\n    </tr>\n    <tr>\n      <th>23</th>\n      <td>10081111</td>\n      <td>SALDARRIAGA</td>\n      <td>MAZO</td>\n      <td>HEYDI</td>\n      <td>DAYANA</td>\n      <td>0</td>\n      <td>3</td>\n      <td>0</td>\n      <td>NaN</td>\n    </tr>\n    <tr>\n      <th>24</th>\n      <td>10251071</td>\n      <td>SASTOQUE</td>\n      <td>BUITRAGO</td>\n      <td>SEBASTIAN</td>\n      <td>NaN</td>\n      <td>1</td>\n      <td>3</td>\n      <td>3</td>\n      <td>NaN</td>\n    </tr>\n    <tr>\n      <th>25</th>\n      <td>10477629</td>\n      <td>VARGAS</td>\n      <td>ARIAS</td>\n      <td>DANIEL</td>\n      <td>NaN</td>\n      <td>3</td>\n      <td>0</td>\n      <td>4</td>\n      <td>NaN</td>\n    </tr>\n    <tr>\n      <th>26</th>\n      <td>10171337</td>\n      <td>ZAPATA</td>\n      <td>HERNANDEZ</td>\n      <td>VENANCIO</td>\n      <td>NaN</td>\n      <td>0</td>\n      <td>1</td>\n      <td>1</td>\n      <td>NaN</td>\n    </tr>\n  </tbody>\n</table>\n</div>"
     },
     "metadata": {},
     "execution_count": 10
    }
   ],
   "source": [
    "import random\n",
    "#Creemos un diccionario de Series con los nombres, apellidos,.....\n",
    "List_Dict = {\"Documento\": pd.Series([100064169,100363539,107905013,7432675,100025427,115715207,100113849,10008685,10456246,10001883,10113589,10075864,1516857,10031883,10054782,10078124,10032997,4271868,10537010,10016972,10628816,10651441,10403569,10081111,10251071,10477629,10171337]),\n",
    "\"Apellido1\" : pd.Series([\"BOHORQUEZ\",\"CABRA\",\"CAICEDO\",\"CARDENAS\",\"CASTELLANOS\",\"CATANO\",\"DUQUE\",\"DUQUE\",\"GALEANO\",\"GIRALDO\",\"GOMEZ\",\"HENAO\",\"HERNANDEZ\",\"LAGOS\",\"MEJIA\",\"MEJIA\",\"MONSALVE\",\"ORTIZ\",\"PENAGOS\",\"PEREZ\",\"PULGARIN\",\"RIOS\",\"RUIZ\",\"SALDARRIAGA\",\"SASTOQUE\",\"VARGAS\",\"ZAPATA\"]),\n",
    "\"Apellido2\" : pd.Series([\"CHACON\",\"PATINO\",\"MARTINEZ\",\"COLMENARES\",\"GONZALEZ\",\"MONSALVE\",\"HOYOS\",\"QUINTERO\",\"VAHOS\",\"CARDENAS\",\"POSADA\",\"CUERVO\",\"GOMEZ\",\"OSORIO\",\"FUENTES\",\"GONZALEZ\",\"TORRES\",\"VELASQUEZ\",\"GONZALEZ\",\"GOMEZ\",\"ESTRADA\",\"PEREZ\",\"GUERRA\",\"MAZO\",\"BUITRAGO\",\"ARIAS\",\"HERNANDEZ\"]),\n",
    "\"Nombre1\" : pd.Series([\"DIEGO\",\"SANTIAGO\",\"YEIMAR\",\"MANUEL\",\"ANGIE\",\"JULIAN\",\"ANDRES\",\"SEBASTIAN\",\"JAVIER\",\"MARIANA\",\"CAMILO\",\"DAVID\",\"JUAN\",\"LUIS\",\"JUAN\",\"ANDRES\",\"SIMON\",\"GLADIS\",\"JUAN\",\"MATEO\",\"JUAN\",\"KATLEEN\",\"JORGE\",\"HEYDI\",\"SEBASTIAN\",\"DANIEL\",\"VENANCIO\"]),\n",
    "\"Nombre2\" : pd.Series([\"ALEJANDRO\",\"\",\"\",\"ARAUJO\",\"DANIELA\",\"\",\"FELIPE\",\"\",\"DARIO\",\"\",\"ANDRES\",\"FELIPE\",\"CAMILO\",\"FERNANDO\",\"MANUEL\",\"\",\"\",\"JESUS\",\"PABLO\",\"\",\"DIEGO\",\"JOHANA\",\"IGNACIO\",\"DAYANA\"]),\n",
    "\"Nota1\": pd.Series([random.randrange(0,5) for i in range(27)]),\n",
    "\"Nota2\": pd.Series([random.randrange(0,5) for i in range(27)]),\n",
    "\"Nota3\": pd.Series([random.randrange(0,5) for i in range(27)]),\n",
    "\"NotaFinal\" : pd.Series()\n",
    "}\n",
    "# DataFrame\n",
    "List_DF = pd.DataFrame(List_Dict)\n",
    "List_DF"
   ]
  },
  {
   "cell_type": "code",
   "execution_count": 11,
   "metadata": {
    "tags": []
   },
   "outputs": [
    {
     "output_type": "stream",
     "name": "stdout",
     "text": "Documento                                            821481613\nApellido1    BOHORQUEZCABRACAICEDOCARDENASCASTELLANOSCATANO...\nApellido2    CHACONPATINOMARTINEZCOLMENARESGONZALEZMONSALVE...\nNombre1      DIEGOSANTIAGOYEIMARMANUELANGIEJULIANANDRESSEBA...\nNota1                                                       52\nNota2                                                       38\nNota3                                                       60\nNotaFinal                                                    0\ndtype: object\n------------------------------------\n0     100064172.0\n1     100363544.0\n2     107905022.0\n3       7432682.0\n4     100025430.0\n5     115715212.0\n6     100113852.0\n7      10008695.0\n8      10456253.0\n9      10001891.0\n10     10113593.0\n11     10075874.0\n12      1516861.0\n13     10031892.0\n14     10054791.0\n15     10078126.0\n16     10032999.0\n17      4271872.0\n18     10537017.0\n19     10016979.0\n20     10628819.0\n21     10651450.0\n22     10403570.0\n23     10081114.0\n24     10251078.0\n25     10477636.0\n26     10171339.0\ndtype: float64\n------------------------------------\n"
    }
   ],
   "source": [
    "#Sumando Sobre el primer eje del DataFrame (suma las columnas) \n",
    "print(List_DF.sum(0))\n",
    "print(\"------------------------------------\")\n",
    "#Sumando Sobre el segundo eje del DataFrame (suma las Filas) \n",
    "#La suma se hace binaria\n",
    "print(List_DF.sum(1))\n",
    "print(\"------------------------------------\")"
   ]
  },
  {
   "cell_type": "code",
   "execution_count": 12,
   "metadata": {
    "tags": []
   },
   "outputs": [
    {
     "output_type": "stream",
     "name": "stdout",
     "text": "Documento    3.042524e+07\nNota1        1.925926e+00\nNota2        1.407407e+00\nNota3        2.222222e+00\nNotaFinal             NaN\ndtype: float64\n------------------------------------\nDocumento    4.024557e+07\nNota1        1.327981e+00\nNota2        1.366052e+00\nNota3        1.395965e+00\nNotaFinal             NaN\ndtype: float64\n------------------------------------\n"
    }
   ],
   "source": [
    "#El promedio de la suma de las columnas numéricas\n",
    "print(List_DF.mean(0))\n",
    "print(\"------------------------------------\")\n",
    "#La desviación estandar tipo bessel de las columnas numéricas\n",
    "print(List_DF.std())\n",
    "print(\"------------------------------------\")"
   ]
  },
  {
   "source": [
    "Algunas funciones que actuan sobre todo el DF\n",
    "\n",
    "| Function  | Description                      |\n",
    "|-----------|----------------------------------|\n",
    "| count()   | Numero de los valores no nulos   |\n",
    "| sum()     | Suma de los valores              |\n",
    "| mean()    | Media de los Valores             |\n",
    "| median()  | Mediana de los valores           |\n",
    "| mode()    | Moda de los valores              |\n",
    "| std()     | Desviación estándar              |\n",
    "| min()     | Mínimo Valor                     |\n",
    "| max()     | Máximo Valor                     |\n",
    "| abs()     | Valor Absoluto                   |\n",
    "| prod()    | Producto                         |\n",
    "| cumsum()  | Suma cumulativa                  |\n",
    "| cumprod() | Producto Cumulativo              |"
   ],
   "cell_type": "markdown",
   "metadata": {}
  },
  {
   "cell_type": "code",
   "execution_count": 13,
   "metadata": {
    "tags": []
   },
   "outputs": [
    {
     "output_type": "stream",
     "name": "stdout",
     "text": "          Documento      Nota1      Nota2      Nota3  NotaFinal\ncount  2.700000e+01  27.000000  27.000000  27.000000        0.0\nmean   3.042524e+07   1.925926   1.407407   2.222222        NaN\nstd    4.024557e+07   1.327981   1.366052   1.395965        NaN\nmin    1.516857e+06   0.000000   0.000000   0.000000        NaN\n25%    1.003244e+07   1.000000   0.000000   1.000000        NaN\n50%    1.017134e+07   2.000000   1.000000   2.000000        NaN\n75%    1.064013e+07   3.000000   3.000000   3.000000        NaN\nmax    1.157152e+08   4.000000   4.000000   4.000000        NaN\n"
    }
   ],
   "source": [
    "# Todo lo anterior se puede hacer con describe. Si se le pasa el argumento include='all', \n",
    "#muestra todas las columnas.\n",
    "# print(describe(include='all'))\n",
    "print(List_DF.describe())"
   ]
  },
  {
   "source": [
    "### Función `pipe`\n",
    "Una de las funciones más útiles de las hojas de cálculo es crear funciones y aplicarlas sobre el conjuntos de datos.\n",
    "La función pipe permite aplicar funciones.\n",
    "\n",
    "__Ejemplo:__"
   ],
   "cell_type": "markdown",
   "metadata": {}
  },
  {
   "cell_type": "code",
   "execution_count": 14,
   "metadata": {
    "tags": []
   },
   "outputs": [
    {
     "output_type": "stream",
     "name": "stdout",
     "text": "       col1      col2      col3\n0 -0.751171  1.152480 -1.004287\n1  1.782161 -0.635311 -0.231693\n2  1.051235 -0.276821 -0.328595\n3  0.233736 -0.377866 -0.895300\n4 -0.593825  0.210765 -0.008787\n---------------------------------\n       col1      col2      col3\n0  3.248829  5.152480  2.995713\n1  5.782161  3.364689  3.768307\n2  5.051235  3.723179  3.671405\n3  4.233736  3.622134  3.104700\n4  3.406175  4.210765  3.991213\n"
    }
   ],
   "source": [
    "#Creemos una función\n",
    "def Suma(a,b):\n",
    "   return a+b\n",
    "RandomDataFrame = pd.DataFrame(np.random.randn(5,3),columns=['col1','col2','col3'])\n",
    "print(RandomDataFrame)\n",
    "# Se debe pasar los argumentos usando comas, la función \"suma\" toma los dos argumentos que se le pasa\n",
    "#y devuelve la suma, a pipe se le pasa el nombre de la función y los argumentos separados por comas\n",
    "print(\"---------------------------------\")\n",
    "print(RandomDataFrame.pipe(Suma,4)) #Le suma 4 a todas las entradas del DF"
   ]
  },
  {
   "source": [
    "### Función `apply`\n",
    "Funciones arbitrarias se pueden aplicar a lo largo de los ejes de un DataFrame o Panel usando el método `apply()`, esta toma un argumento de eje opcional. De forma predeterminada, la operación se realiza en columnas, tomando cada columna como una matriz.\n",
    "\n",
    "__Sintaxis:__\n",
    ">```\n",
    ">   DataFrame.apply(func, axis=0, broadcast=None, raw=False, reduce=None, result_type=None, args=(), **kwds)\n",
    ">```\n",
    "\n",
    "donde `func` es la función que se aplicará a cada columna o fila. Esta función acepta una serie y devuelve una serie. `eje` eje a lo largo del cual se aplica la función en el marco de datos. Valor predeterminado 0. Si el valor es 0, aplica la función a cada columna. Si el valor es 1, aplica la función a cada fila.\n",
    "`args` lista de argumentos para pasar a la función.\n",
    "\n",
    "__Ejemplo:__"
   ],
   "cell_type": "markdown",
   "metadata": {}
  },
  {
   "cell_type": "code",
   "execution_count": 15,
   "metadata": {
    "tags": []
   },
   "outputs": [
    {
     "output_type": "stream",
     "name": "stdout",
     "text": "       col1      col2      col3\n0 -0.333540  0.301582 -1.604915\n1  0.228496  0.633381  0.046713\n2  1.522856 -1.977364 -0.175792\n3 -0.466529  0.488797 -0.370464\n4  0.377458 -0.869661 -0.077904\n---------------------------------\n       col1      col2      col3\n0 -0.667080  0.603164 -3.209831\n1  0.456993  1.266762  0.093427\n2  3.045712 -3.954728 -0.351583\n3 -0.933058  0.977594 -0.740928\n4  0.754915 -1.739321 -0.155808\n"
    }
   ],
   "source": [
    "#Creemos una función\n",
    "def Multiplicacion(a,b):\n",
    "   return a*b\n",
    "RandomDataFrame = pd.DataFrame(np.random.randn(5,3),columns=['col1','col2','col3'])\n",
    "print(RandomDataFrame)\n",
    "print(\"---------------------------------\")\n",
    "print(RandomDataFrame.apply(Multiplicacion,axis=1,args=[2]))"
   ]
  },
  {
   "source": [
    "## Iteraciones\n",
    "La iteración de un DataFrame da nombres de columna. \n",
    "\n",
    "__Ejemplo:__"
   ],
   "cell_type": "markdown",
   "metadata": {}
  },
  {
   "cell_type": "code",
   "execution_count": 16,
   "metadata": {
    "tags": []
   },
   "outputs": [
    {
     "output_type": "stream",
     "name": "stdout",
     "text": "Documento\nApellido1\nApellido2\nNombre1\nNombre2\nNota1\nNota2\nNota3\nNotaFinal\n"
    }
   ],
   "source": [
    "import random\n",
    "#Creemos un diccionario de Series con los nombres, apellidos,.....\n",
    "List_Dict = {\"Documento\": pd.Series([100064169,100363539,107905013,7432675,100025427,115715207,100113849,10008685,10456246,10001883,10113589,10075864,1516857,10031883,10054782,10078124,10032997,4271868,10537010,10016972,10628816,10651441,10403569,10081111,10251071,10477629,10171337]),\n",
    "\"Apellido1\" : pd.Series([\"BOHORQUEZ\",\"CABRA\",\"CAICEDO\",\"CARDENAS\",\"CASTELLANOS\",\"CATANO\",\"DUQUE\",\"DUQUE\",\"GALEANO\",\"GIRALDO\",\"GOMEZ\",\"HENAO\",\"HERNANDEZ\",\"LAGOS\",\"MEJIA\",\"MEJIA\",\"MONSALVE\",\"ORTIZ\",\"PENAGOS\",\"PEREZ\",\"PULGARIN\",\"RIOS\",\"RUIZ\",\"SALDARRIAGA\",\"SASTOQUE\",\"VARGAS\",\"ZAPATA\"]),\n",
    "\"Apellido2\" : pd.Series([\"CHACON\",\"PATINO\",\"MARTINEZ\",\"COLMENARES\",\"GONZALEZ\",\"MONSALVE\",\"HOYOS\",\"QUINTERO\",\"VAHOS\",\"CARDENAS\",\"POSADA\",\"CUERVO\",\"GOMEZ\",\"OSORIO\",\"FUENTES\",\"GONZALEZ\",\"TORRES\",\"VELASQUEZ\",\"GONZALEZ\",\"GOMEZ\",\"ESTRADA\",\"PEREZ\",\"GUERRA\",\"MAZO\",\"BUITRAGO\",\"ARIAS\",\"HERNANDEZ\"]),\n",
    "\"Nombre1\" : pd.Series([\"DIEGO\",\"SANTIAGO\",\"YEIMAR\",\"MANUEL\",\"ANGIE\",\"JULIAN\",\"ANDRES\",\"SEBASTIAN\",\"JAVIER\",\"MARIANA\",\"CAMILO\",\"DAVID\",\"JUAN\",\"LUIS\",\"JUAN\",\"ANDRES\",\"SIMON\",\"GLADIS\",\"JUAN\",\"MATEO\",\"JUAN\",\"KATLEEN\",\"JORGE\",\"HEYDI\",\"SEBASTIAN\",\"DANIEL\",\"VENANCIO\"]),\n",
    "\"Nombre2\" : pd.Series([\"ALEJANDRO\",\"\",\"\",\"ARAUJO\",\"DANIELA\",\"\",\"FELIPE\",\"\",\"DARIO\",\"\",\"ANDRES\",\"FELIPE\",\"CAMILO\",\"FERNANDO\",\"MANUEL\",\"\",\"\",\"JESUS\",\"PABLO\",\"\",\"DIEGO\",\"JOHANA\",\"IGNACIO\",\"DAYANA\"]),\n",
    "\"Nota1\": pd.Series([random.randrange(0,5) for i in range(27)]),\n",
    "\"Nota2\": pd.Series([random.randrange(0,5) for i in range(27)]),\n",
    "\"Nota3\": pd.Series([random.randrange(0,5) for i in range(27)]),\n",
    "\"NotaFinal\" : pd.Series()\n",
    "}\n",
    "# DataFrame\n",
    "List_DF = pd.DataFrame(List_Dict)\n",
    "for col in List_DF:\n",
    "   print(col)"
   ]
  },
  {
   "source": [
    "Para iterar sobre el DataFrame, podemos usar las funciones:\n",
    "- `iteritems()` : para iterar sobre los pares (llave, valor).\n",
    "- `iterrows()`  : itera sobre las filas como pares (índice, serie).\n",
    "- `itertuples()`: itera sobre las filas como nombres de tuplas.\n",
    "\n",
    "__Ejemplos:__ Usando el DF anterior"
   ],
   "cell_type": "markdown",
   "metadata": {}
  },
  {
   "cell_type": "code",
   "execution_count": 17,
   "metadata": {
    "tags": []
   },
   "outputs": [
    {
     "output_type": "stream",
     "name": "stdout",
     "text": "Documento\n---------------------------------\n0     100064169\n1     100363539\n2     107905013\n3       7432675\n4     100025427\n5     115715207\n6     100113849\n7      10008685\n8      10456246\n9      10001883\n10     10113589\n11     10075864\n12      1516857\n13     10031883\n14     10054782\n15     10078124\n16     10032997\n17      4271868\n18     10537010\n19     10016972\n20     10628816\n21     10651441\n22     10403569\n23     10081111\n24     10251071\n25     10477629\n26     10171337\nName: Documento, dtype: int64\n---------------------------------\nApellido1\n---------------------------------\n0       BOHORQUEZ\n1           CABRA\n2         CAICEDO\n3        CARDENAS\n4     CASTELLANOS\n5          CATANO\n6           DUQUE\n7           DUQUE\n8         GALEANO\n9         GIRALDO\n10          GOMEZ\n11          HENAO\n12      HERNANDEZ\n13          LAGOS\n14          MEJIA\n15          MEJIA\n16       MONSALVE\n17          ORTIZ\n18        PENAGOS\n19          PEREZ\n20       PULGARIN\n21           RIOS\n22           RUIZ\n23    SALDARRIAGA\n24       SASTOQUE\n25         VARGAS\n26         ZAPATA\nName: Apellido1, dtype: object\n---------------------------------\nApellido2\n---------------------------------\n0         CHACON\n1         PATINO\n2       MARTINEZ\n3     COLMENARES\n4       GONZALEZ\n5       MONSALVE\n6          HOYOS\n7       QUINTERO\n8          VAHOS\n9       CARDENAS\n10        POSADA\n11        CUERVO\n12         GOMEZ\n13        OSORIO\n14       FUENTES\n15      GONZALEZ\n16        TORRES\n17     VELASQUEZ\n18      GONZALEZ\n19         GOMEZ\n20       ESTRADA\n21         PEREZ\n22        GUERRA\n23          MAZO\n24      BUITRAGO\n25         ARIAS\n26     HERNANDEZ\nName: Apellido2, dtype: object\n---------------------------------\nNombre1\n---------------------------------\n0         DIEGO\n1      SANTIAGO\n2        YEIMAR\n3        MANUEL\n4         ANGIE\n5        JULIAN\n6        ANDRES\n7     SEBASTIAN\n8        JAVIER\n9       MARIANA\n10       CAMILO\n11        DAVID\n12         JUAN\n13         LUIS\n14         JUAN\n15       ANDRES\n16        SIMON\n17       GLADIS\n18         JUAN\n19        MATEO\n20         JUAN\n21      KATLEEN\n22        JORGE\n23        HEYDI\n24    SEBASTIAN\n25       DANIEL\n26     VENANCIO\nName: Nombre1, dtype: object\n---------------------------------\nNombre2\n---------------------------------\n0     ALEJANDRO\n1              \n2              \n3        ARAUJO\n4       DANIELA\n5              \n6        FELIPE\n7              \n8         DARIO\n9              \n10       ANDRES\n11       FELIPE\n12       CAMILO\n13     FERNANDO\n14       MANUEL\n15             \n16             \n17        JESUS\n18        PABLO\n19             \n20        DIEGO\n21       JOHANA\n22      IGNACIO\n23       DAYANA\n24          NaN\n25          NaN\n26          NaN\nName: Nombre2, dtype: object\n---------------------------------\nNota1\n---------------------------------\n0     4\n1     2\n2     0\n3     4\n4     1\n5     2\n6     4\n7     2\n8     4\n9     4\n10    3\n11    0\n12    4\n13    4\n14    1\n15    0\n16    3\n17    3\n18    1\n19    0\n20    0\n21    1\n22    2\n23    0\n24    1\n25    2\n26    3\nName: Nota1, dtype: int64\n---------------------------------\nNota2\n---------------------------------\n0     1\n1     4\n2     3\n3     2\n4     1\n5     0\n6     0\n7     3\n8     3\n9     4\n10    3\n11    1\n12    1\n13    0\n14    1\n15    0\n16    0\n17    3\n18    3\n19    4\n20    3\n21    1\n22    0\n23    4\n24    3\n25    4\n26    4\nName: Nota2, dtype: int64\n---------------------------------\nNota3\n---------------------------------\n0     4\n1     3\n2     2\n3     0\n4     3\n5     2\n6     2\n7     4\n8     4\n9     4\n10    0\n11    3\n12    4\n13    3\n14    0\n15    3\n16    4\n17    1\n18    1\n19    0\n20    2\n21    3\n22    1\n23    4\n24    1\n25    1\n26    3\nName: Nota3, dtype: int64\n---------------------------------\nNotaFinal\n---------------------------------\n0    NaN\n1    NaN\n2    NaN\n3    NaN\n4    NaN\n5    NaN\n6    NaN\n7    NaN\n8    NaN\n9    NaN\n10   NaN\n11   NaN\n12   NaN\n13   NaN\n14   NaN\n15   NaN\n16   NaN\n17   NaN\n18   NaN\n19   NaN\n20   NaN\n21   NaN\n22   NaN\n23   NaN\n24   NaN\n25   NaN\n26   NaN\nName: NotaFinal, dtype: float64\n---------------------------------\n"
    }
   ],
   "source": [
    "\n",
    "for key,value in List_DF.iteritems():\n",
    "    #Imprimo llaves\n",
    "    print(key)\n",
    "    print(\"---------------------------------\")\n",
    "    # El contenido de la llave\n",
    "    print(value)\n",
    "    print(\"---------------------------------\")"
   ]
  },
  {
   "cell_type": "code",
   "execution_count": 18,
   "metadata": {
    "tags": []
   },
   "outputs": [
    {
     "output_type": "stream",
     "name": "stdout",
     "text": "0\n---------------------------------\nDocumento    100064169\nApellido1    BOHORQUEZ\nApellido2       CHACON\nNombre1          DIEGO\nNombre2      ALEJANDRO\nNota1                4\nNota2                1\nNota3                4\nNotaFinal          NaN\nName: 0, dtype: object\n---------------------------------\n1\n---------------------------------\nDocumento    100363539\nApellido1        CABRA\nApellido2       PATINO\nNombre1       SANTIAGO\nNombre2               \nNota1                2\nNota2                4\nNota3                3\nNotaFinal          NaN\nName: 1, dtype: object\n---------------------------------\n2\n---------------------------------\nDocumento    107905013\nApellido1      CAICEDO\nApellido2     MARTINEZ\nNombre1         YEIMAR\nNombre2               \nNota1                0\nNota2                3\nNota3                2\nNotaFinal          NaN\nName: 2, dtype: object\n---------------------------------\n3\n---------------------------------\nDocumento       7432675\nApellido1      CARDENAS\nApellido2    COLMENARES\nNombre1          MANUEL\nNombre2          ARAUJO\nNota1                 4\nNota2                 2\nNota3                 0\nNotaFinal           NaN\nName: 3, dtype: object\n---------------------------------\n4\n---------------------------------\nDocumento      100025427\nApellido1    CASTELLANOS\nApellido2       GONZALEZ\nNombre1            ANGIE\nNombre2          DANIELA\nNota1                  1\nNota2                  1\nNota3                  3\nNotaFinal            NaN\nName: 4, dtype: object\n---------------------------------\n5\n---------------------------------\nDocumento    115715207\nApellido1       CATANO\nApellido2     MONSALVE\nNombre1         JULIAN\nNombre2               \nNota1                2\nNota2                0\nNota3                2\nNotaFinal          NaN\nName: 5, dtype: object\n---------------------------------\n6\n---------------------------------\nDocumento    100113849\nApellido1        DUQUE\nApellido2        HOYOS\nNombre1         ANDRES\nNombre2         FELIPE\nNota1                4\nNota2                0\nNota3                2\nNotaFinal          NaN\nName: 6, dtype: object\n---------------------------------\n7\n---------------------------------\nDocumento     10008685\nApellido1        DUQUE\nApellido2     QUINTERO\nNombre1      SEBASTIAN\nNombre2               \nNota1                2\nNota2                3\nNota3                4\nNotaFinal          NaN\nName: 7, dtype: object\n---------------------------------\n8\n---------------------------------\nDocumento    10456246\nApellido1     GALEANO\nApellido2       VAHOS\nNombre1        JAVIER\nNombre2         DARIO\nNota1               4\nNota2               3\nNota3               4\nNotaFinal         NaN\nName: 8, dtype: object\n---------------------------------\n9\n---------------------------------\nDocumento    10001883\nApellido1     GIRALDO\nApellido2    CARDENAS\nNombre1       MARIANA\nNombre2              \nNota1               4\nNota2               4\nNota3               4\nNotaFinal         NaN\nName: 9, dtype: object\n---------------------------------\n10\n---------------------------------\nDocumento    10113589\nApellido1       GOMEZ\nApellido2      POSADA\nNombre1        CAMILO\nNombre2        ANDRES\nNota1               3\nNota2               3\nNota3               0\nNotaFinal         NaN\nName: 10, dtype: object\n---------------------------------\n11\n---------------------------------\nDocumento    10075864\nApellido1       HENAO\nApellido2      CUERVO\nNombre1         DAVID\nNombre2        FELIPE\nNota1               0\nNota2               1\nNota3               3\nNotaFinal         NaN\nName: 11, dtype: object\n---------------------------------\n12\n---------------------------------\nDocumento      1516857\nApellido1    HERNANDEZ\nApellido2        GOMEZ\nNombre1           JUAN\nNombre2         CAMILO\nNota1                4\nNota2                1\nNota3                4\nNotaFinal          NaN\nName: 12, dtype: object\n---------------------------------\n13\n---------------------------------\nDocumento    10031883\nApellido1       LAGOS\nApellido2      OSORIO\nNombre1          LUIS\nNombre2      FERNANDO\nNota1               4\nNota2               0\nNota3               3\nNotaFinal         NaN\nName: 13, dtype: object\n---------------------------------\n14\n---------------------------------\nDocumento    10054782\nApellido1       MEJIA\nApellido2     FUENTES\nNombre1          JUAN\nNombre2        MANUEL\nNota1               1\nNota2               1\nNota3               0\nNotaFinal         NaN\nName: 14, dtype: object\n---------------------------------\n15\n---------------------------------\nDocumento    10078124\nApellido1       MEJIA\nApellido2    GONZALEZ\nNombre1        ANDRES\nNombre2              \nNota1               0\nNota2               0\nNota3               3\nNotaFinal         NaN\nName: 15, dtype: object\n---------------------------------\n16\n---------------------------------\nDocumento    10032997\nApellido1    MONSALVE\nApellido2      TORRES\nNombre1         SIMON\nNombre2              \nNota1               3\nNota2               0\nNota3               4\nNotaFinal         NaN\nName: 16, dtype: object\n---------------------------------\n17\n---------------------------------\nDocumento      4271868\nApellido1        ORTIZ\nApellido2    VELASQUEZ\nNombre1         GLADIS\nNombre2          JESUS\nNota1                3\nNota2                3\nNota3                1\nNotaFinal          NaN\nName: 17, dtype: object\n---------------------------------\n18\n---------------------------------\nDocumento    10537010\nApellido1     PENAGOS\nApellido2    GONZALEZ\nNombre1          JUAN\nNombre2         PABLO\nNota1               1\nNota2               3\nNota3               1\nNotaFinal         NaN\nName: 18, dtype: object\n---------------------------------\n19\n---------------------------------\nDocumento    10016972\nApellido1       PEREZ\nApellido2       GOMEZ\nNombre1         MATEO\nNombre2              \nNota1               0\nNota2               4\nNota3               0\nNotaFinal         NaN\nName: 19, dtype: object\n---------------------------------\n20\n---------------------------------\nDocumento    10628816\nApellido1    PULGARIN\nApellido2     ESTRADA\nNombre1          JUAN\nNombre2         DIEGO\nNota1               0\nNota2               3\nNota3               2\nNotaFinal         NaN\nName: 20, dtype: object\n---------------------------------\n21\n---------------------------------\nDocumento    10651441\nApellido1        RIOS\nApellido2       PEREZ\nNombre1       KATLEEN\nNombre2        JOHANA\nNota1               1\nNota2               1\nNota3               3\nNotaFinal         NaN\nName: 21, dtype: object\n---------------------------------\n22\n---------------------------------\nDocumento    10403569\nApellido1        RUIZ\nApellido2      GUERRA\nNombre1         JORGE\nNombre2       IGNACIO\nNota1               2\nNota2               0\nNota3               1\nNotaFinal         NaN\nName: 22, dtype: object\n---------------------------------\n23\n---------------------------------\nDocumento       10081111\nApellido1    SALDARRIAGA\nApellido2           MAZO\nNombre1            HEYDI\nNombre2           DAYANA\nNota1                  0\nNota2                  4\nNota3                  4\nNotaFinal            NaN\nName: 23, dtype: object\n---------------------------------\n24\n---------------------------------\nDocumento     10251071\nApellido1     SASTOQUE\nApellido2     BUITRAGO\nNombre1      SEBASTIAN\nNombre2            NaN\nNota1                1\nNota2                3\nNota3                1\nNotaFinal          NaN\nName: 24, dtype: object\n---------------------------------\n25\n---------------------------------\nDocumento    10477629\nApellido1      VARGAS\nApellido2       ARIAS\nNombre1        DANIEL\nNombre2           NaN\nNota1               2\nNota2               4\nNota3               1\nNotaFinal         NaN\nName: 25, dtype: object\n---------------------------------\n26\n---------------------------------\nDocumento     10171337\nApellido1       ZAPATA\nApellido2    HERNANDEZ\nNombre1       VENANCIO\nNombre2            NaN\nNota1                3\nNota2                4\nNota3                3\nNotaFinal          NaN\nName: 26, dtype: object\n---------------------------------\n"
    }
   ],
   "source": [
    "#Itera sobre los indices de las filas, y el valor\n",
    "for row_index,row in List_DF.iterrows():\n",
    "    print(row_index)\n",
    "    print(\"---------------------------------\")\n",
    "    print(row)\n",
    "    print(\"---------------------------------\")"
   ]
  },
  {
   "cell_type": "code",
   "execution_count": 19,
   "metadata": {
    "tags": []
   },
   "outputs": [
    {
     "output_type": "stream",
     "name": "stdout",
     "text": "Pandas(Index=0, Documento=100064169, Apellido1='BOHORQUEZ', Apellido2='CHACON', Nombre1='DIEGO', Nombre2='ALEJANDRO', Nota1=4, Nota2=1, Nota3=4, NotaFinal=nan)\nPandas(Index=1, Documento=100363539, Apellido1='CABRA', Apellido2='PATINO', Nombre1='SANTIAGO', Nombre2='', Nota1=2, Nota2=4, Nota3=3, NotaFinal=nan)\nPandas(Index=2, Documento=107905013, Apellido1='CAICEDO', Apellido2='MARTINEZ', Nombre1='YEIMAR', Nombre2='', Nota1=0, Nota2=3, Nota3=2, NotaFinal=nan)\nPandas(Index=3, Documento=7432675, Apellido1='CARDENAS', Apellido2='COLMENARES', Nombre1='MANUEL', Nombre2='ARAUJO', Nota1=4, Nota2=2, Nota3=0, NotaFinal=nan)\nPandas(Index=4, Documento=100025427, Apellido1='CASTELLANOS', Apellido2='GONZALEZ', Nombre1='ANGIE', Nombre2='DANIELA', Nota1=1, Nota2=1, Nota3=3, NotaFinal=nan)\nPandas(Index=5, Documento=115715207, Apellido1='CATANO', Apellido2='MONSALVE', Nombre1='JULIAN', Nombre2='', Nota1=2, Nota2=0, Nota3=2, NotaFinal=nan)\nPandas(Index=6, Documento=100113849, Apellido1='DUQUE', Apellido2='HOYOS', Nombre1='ANDRES', Nombre2='FELIPE', Nota1=4, Nota2=0, Nota3=2, NotaFinal=nan)\nPandas(Index=7, Documento=10008685, Apellido1='DUQUE', Apellido2='QUINTERO', Nombre1='SEBASTIAN', Nombre2='', Nota1=2, Nota2=3, Nota3=4, NotaFinal=nan)\nPandas(Index=8, Documento=10456246, Apellido1='GALEANO', Apellido2='VAHOS', Nombre1='JAVIER', Nombre2='DARIO', Nota1=4, Nota2=3, Nota3=4, NotaFinal=nan)\nPandas(Index=9, Documento=10001883, Apellido1='GIRALDO', Apellido2='CARDENAS', Nombre1='MARIANA', Nombre2='', Nota1=4, Nota2=4, Nota3=4, NotaFinal=nan)\nPandas(Index=10, Documento=10113589, Apellido1='GOMEZ', Apellido2='POSADA', Nombre1='CAMILO', Nombre2='ANDRES', Nota1=3, Nota2=3, Nota3=0, NotaFinal=nan)\nPandas(Index=11, Documento=10075864, Apellido1='HENAO', Apellido2='CUERVO', Nombre1='DAVID', Nombre2='FELIPE', Nota1=0, Nota2=1, Nota3=3, NotaFinal=nan)\nPandas(Index=12, Documento=1516857, Apellido1='HERNANDEZ', Apellido2='GOMEZ', Nombre1='JUAN', Nombre2='CAMILO', Nota1=4, Nota2=1, Nota3=4, NotaFinal=nan)\nPandas(Index=13, Documento=10031883, Apellido1='LAGOS', Apellido2='OSORIO', Nombre1='LUIS', Nombre2='FERNANDO', Nota1=4, Nota2=0, Nota3=3, NotaFinal=nan)\nPandas(Index=14, Documento=10054782, Apellido1='MEJIA', Apellido2='FUENTES', Nombre1='JUAN', Nombre2='MANUEL', Nota1=1, Nota2=1, Nota3=0, NotaFinal=nan)\nPandas(Index=15, Documento=10078124, Apellido1='MEJIA', Apellido2='GONZALEZ', Nombre1='ANDRES', Nombre2='', Nota1=0, Nota2=0, Nota3=3, NotaFinal=nan)\nPandas(Index=16, Documento=10032997, Apellido1='MONSALVE', Apellido2='TORRES', Nombre1='SIMON', Nombre2='', Nota1=3, Nota2=0, Nota3=4, NotaFinal=nan)\nPandas(Index=17, Documento=4271868, Apellido1='ORTIZ', Apellido2='VELASQUEZ', Nombre1='GLADIS', Nombre2='JESUS', Nota1=3, Nota2=3, Nota3=1, NotaFinal=nan)\nPandas(Index=18, Documento=10537010, Apellido1='PENAGOS', Apellido2='GONZALEZ', Nombre1='JUAN', Nombre2='PABLO', Nota1=1, Nota2=3, Nota3=1, NotaFinal=nan)\nPandas(Index=19, Documento=10016972, Apellido1='PEREZ', Apellido2='GOMEZ', Nombre1='MATEO', Nombre2='', Nota1=0, Nota2=4, Nota3=0, NotaFinal=nan)\nPandas(Index=20, Documento=10628816, Apellido1='PULGARIN', Apellido2='ESTRADA', Nombre1='JUAN', Nombre2='DIEGO', Nota1=0, Nota2=3, Nota3=2, NotaFinal=nan)\nPandas(Index=21, Documento=10651441, Apellido1='RIOS', Apellido2='PEREZ', Nombre1='KATLEEN', Nombre2='JOHANA', Nota1=1, Nota2=1, Nota3=3, NotaFinal=nan)\nPandas(Index=22, Documento=10403569, Apellido1='RUIZ', Apellido2='GUERRA', Nombre1='JORGE', Nombre2='IGNACIO', Nota1=2, Nota2=0, Nota3=1, NotaFinal=nan)\nPandas(Index=23, Documento=10081111, Apellido1='SALDARRIAGA', Apellido2='MAZO', Nombre1='HEYDI', Nombre2='DAYANA', Nota1=0, Nota2=4, Nota3=4, NotaFinal=nan)\nPandas(Index=24, Documento=10251071, Apellido1='SASTOQUE', Apellido2='BUITRAGO', Nombre1='SEBASTIAN', Nombre2=nan, Nota1=1, Nota2=3, Nota3=1, NotaFinal=nan)\nPandas(Index=25, Documento=10477629, Apellido1='VARGAS', Apellido2='ARIAS', Nombre1='DANIEL', Nombre2=nan, Nota1=2, Nota2=4, Nota3=1, NotaFinal=nan)\nPandas(Index=26, Documento=10171337, Apellido1='ZAPATA', Apellido2='HERNANDEZ', Nombre1='VENANCIO', Nombre2=nan, Nota1=3, Nota2=4, Nota3=3, NotaFinal=nan)\n"
    }
   ],
   "source": [
    "#Itera simplemete sobre la fila\n",
    "for row in List_DF.itertuples():\n",
    "    print(row)"
   ]
  },
  {
   "source": [
    "## Clasificación\n",
    "Hay dos formas de clasificación e pandas, usando las etiquetas `sort_index()` y usando los valores `sort_values()`.\n",
    "\n",
    "### Por Etiquetas:\n",
    "\n",
    "__Ejemplo:__"
   ],
   "cell_type": "markdown",
   "metadata": {}
  },
  {
   "cell_type": "code",
   "execution_count": 20,
   "metadata": {
    "tags": []
   },
   "outputs": [
    {
     "output_type": "stream",
     "name": "stdout",
     "text": "       col1      col2      col3\n9  0.363329 -0.682649 -1.154029\n8  0.188763  0.646847  2.222307\n7  1.025577  1.020435 -0.792864\n6 -2.261185 -2.029165 -0.421072\n5  1.338036  1.367174 -0.748660\n4 -0.758625 -0.167529  0.138668\n3  1.018859 -0.311636 -1.537275\n2 -0.043714  0.225762  0.953409\n1  0.946234 -1.688288  0.473649\n0  0.450839 -2.421892  1.086257\n"
    }
   ],
   "source": [
    "RandomDataFrame = pd.DataFrame(np.random.randn(10,3),columns=['col1','col2','col3'])\n",
    "DF_Ordenado = RandomDataFrame.sort_index(ascending=False)\n",
    "print(DF_Ordenado)"
   ]
  },
  {
   "source": [
    "Al pasar el argumento del eje con un valor 0 o 1, la clasificación se puede realizar en las etiquetas de las columnas (`axis=0` Por defecto).\n",
    "\n",
    "__Ejemplo:__"
   ],
   "cell_type": "markdown",
   "metadata": {}
  },
  {
   "cell_type": "code",
   "execution_count": 21,
   "metadata": {
    "tags": []
   },
   "outputs": [
    {
     "output_type": "stream",
     "name": "stdout",
     "text": "       col1      col2      col3\n0  0.450839 -2.421892  1.086257\n1  0.946234 -1.688288  0.473649\n2 -0.043714  0.225762  0.953409\n3  1.018859 -0.311636 -1.537275\n4 -0.758625 -0.167529  0.138668\n5  1.338036  1.367174 -0.748660\n6 -2.261185 -2.029165 -0.421072\n7  1.025577  1.020435 -0.792864\n8  0.188763  0.646847  2.222307\n9  0.363329 -0.682649 -1.154029\n--------------------------------\n       col3      col2      col1\n0  1.086257 -2.421892  0.450839\n1  0.473649 -1.688288  0.946234\n2  0.953409  0.225762 -0.043714\n3 -1.537275 -0.311636  1.018859\n4  0.138668 -0.167529 -0.758625\n5 -0.748660  1.367174  1.338036\n6 -0.421072 -2.029165 -2.261185\n7 -0.792864  1.020435  1.025577\n8  2.222307  0.646847  0.188763\n9 -1.154029 -0.682649  0.363329\n"
    }
   ],
   "source": [
    "#Este es el orden normal por etiqueta\n",
    "DF_Ordenado_0 = RandomDataFrame.sort_index(axis=0)\n",
    "print(DF_Ordenado_0)\n",
    "print(\"--------------------------------\")\n",
    "#Cambia el orden de las columnas\n",
    "DF_Ordenado_1 = RandomDataFrame.sort_index(axis=1,ascending=False)\n",
    "print(DF_Ordenado_1)"
   ]
  },
  {
   "source": [
    "### Por Valor\n",
    "\n",
    "`sort_values​​()` es el método para clasificar por valores. Acepta un argumento `by` que utilizará el nombre de columna del DataFrame con el que se ordenarán los valores.\n",
    "\n",
    "__Ejemplo:__"
   ],
   "cell_type": "markdown",
   "metadata": {}
  },
  {
   "cell_type": "code",
   "execution_count": null,
   "metadata": {
    "tags": []
   },
   "outputs": [],
   "source": [
    "RandomDataFrame = pd.DataFrame(np.random.randn(10,3),columns=['col1','col2','col3'])\n",
    "#Sin ordenar\n",
    "print(RandomDataFrame)\n",
    "print(\"--------------------------------\")\n",
    "#Se ordenan los datos respecto a la col3\n",
    "DF_Ordenado_Valor_col3 = RandomDataFrame.sort_values(ascending=False,by=\"col3\")\n",
    "print(DF_Ordenado_Valor_col3)"
   ]
  },
  {
   "cell_type": "code",
   "execution_count": null,
   "metadata": {},
   "outputs": [],
   "source": []
  }
 ]
}